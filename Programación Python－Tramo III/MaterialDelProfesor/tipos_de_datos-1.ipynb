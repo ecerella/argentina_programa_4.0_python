{
 "cells": [
  {
   "cell_type": "markdown",
   "metadata": {},
   "source": [
    "***\n",
    "# <center>Tipos de datos</center>\n",
    "***"
   ]
  },
  {
   "cell_type": "markdown",
   "metadata": {},
   "source": [
    "En Python, todo valor que pueda ser asignado a una variable tiene asociado un tipo de dato, y como  en Python todo es un objeto, los tipos de datos serían las clases (donde se definen las propiedades y qué se puede hacer con ellas) y las variables serían las instancias (objetos) de los tipos de datos.  \n",
    "\n",
    "En definitiva, un tipo de dato establece qué valores puede tomar una variable y qué operaciones se pueden realizar sobre la misma.  \n",
    "\n",
    "Los tipos de datos básicos de Python son los booleanos, los numéricos (enteros, punto flotante y complejos) y las cadenas de caracteres."
   ]
  },
  {
   "cell_type": "markdown",
   "metadata": {},
   "source": [
    "### El tipo \"int\"  \n",
    "\n",
    "En Python representa números enteros, es decir, aquellos números que no tienen parte decimal. Por ejemplo, 1, 100, -42, 0, etc.   \n",
    "\n",
    "Python permite trabajar con enteros en diferentes bases, como base 10 (decimal), base 2 (binario), base 8 (octal) y base 16 (hexadecimal).  \n",
    "\n",
    "Veamos cada una de estas bases y cómo operar con ellas:  \n",
    "\n",
    "### Base 10 (Decimal):  \n",
    "\n",
    "Es la base que utilizamos en nuestro día a día, y la que probablemente estés más familiarizado. Los números enteros en base 10 se representan directamente con dígitos del 0 al 9  \n",
    "\n",
    "Ejemplo en Python:"
   ]
  },
  {
   "cell_type": "code",
   "execution_count": null,
   "metadata": {},
   "outputs": [],
   "source": [
    "numero_decimal = 42\n",
    "print(numero_decimal)  # Salida: 42\n",
    "\n"
   ]
  },
  {
   "cell_type": "markdown",
   "metadata": {},
   "source": [
    "### Base 2 (Binario):  \n",
    "\n",
    "En base binaria, solo utilizamos los dígitos 0 y 1. Cada posición en el número binario representa una potencia de 2.  \n",
    "\n",
    "Ejemplo en Python:"
   ]
  },
  {
   "cell_type": "code",
   "execution_count": null,
   "metadata": {},
   "outputs": [],
   "source": [
    "numero_binario = 0b1010\n",
    "print(numero_binario)  # Salida: 10 (corresponde a 1*2^3 + 0*2^2 + 1*2^1 + 0*2^0)"
   ]
  },
  {
   "cell_type": "markdown",
   "metadata": {},
   "source": [
    "El número binario $1010$ se representa como: $1 \\times 2^3 + 0 \\times 2^2 + 1 \\times 2^1 + 0 \\times 2^0$.\n",
    "\n",
    "### Base 8 (Octal):  \n",
    "\n",
    "En base octal, utilizamos los dígitos del 0 al 7. Cada posición en el número octal representa una potencia de 8.  \n",
    "\n",
    "Ejemplo en Python:"
   ]
  },
  {
   "cell_type": "code",
   "execution_count": null,
   "metadata": {},
   "outputs": [],
   "source": [
    "numero_octal = 0o52\n",
    "print(numero_octal)  # Salida: 42 (corresponde a 5*8^1 + 2*8^0)"
   ]
  },
  {
   "cell_type": "markdown",
   "metadata": {},
   "source": [
    "El número octal $42$ se representa como: $4 \\times 8^1 + 2 \\times 8^0$.\n",
    "\n",
    "### Base 16 (Hexadecimal):\n",
    "\n",
    "En base hexadecimal, utilizamos los dígitos del 0 al 9 y las letras de la 'a' a la 'f' (mayúsculas o minúsculas) para representar los valores del 10 al 15. Cada posición en el número hexadecimal representa una potencia de 16.  \n",
    "\n",
    "Ejemplo en Python:"
   ]
  },
  {
   "cell_type": "code",
   "execution_count": null,
   "metadata": {},
   "outputs": [],
   "source": [
    "numero_hexadecimal = 0x2A\n",
    "print(numero_hexadecimal)  # Salida: 42 (corresponde a 2*16^1 + 10*16^0)"
   ]
  },
  {
   "cell_type": "markdown",
   "metadata": {},
   "source": [
    "El número hexadecimal $0x2A$ se representa como $2 \\times 16^1 + 10 \\times 16^0$.  \n",
    "\n",
    "### Ahora, sobre cómo operar con estas bases:\n",
    "\n",
    "Suma y resta son operaciones directas en todas las bases, ya que no dependen de la base en la que se encuentren los números.  \n",
    "\n",
    "Vamos a calcular cada valor:\n",
    "\n",
    "a = 10 está en base 10.  \n",
    "\n",
    "b = 0b1010 es un binario, y su equivalente en decimal es 10 (2 * 2^3 + 1 * 2^1 = 10).  \n",
    "\n",
    "c = 0o12 es un octal, y su equivalente en decimal es 10 (1 * 8^1 = 10).  \n",
    "\n",
    "d = 0x0A es un hexadecimal, y su equivalente en decimal es 10 (10 * 16^0 = 10).\n",
    "\n",
    "Ahora, sumemos todos los valores:  \n",
    "\n",
    "Ejemplo en Python:"
   ]
  },
  {
   "cell_type": "code",
   "execution_count": null,
   "metadata": {},
   "outputs": [],
   "source": [
    "a = 10  # Base 10\n",
    "b = 0b1010  # Base 2\n",
    "c = 0o12  # Base 8\n",
    "d = 0x0A  # Base 16\n",
    "\n",
    "suma = a + b + c + d\n",
    "\n",
    "print(a,'+',b,'+',c,'+',d,'=',suma)  # Salida: 40\n",
    "\n",
    "resultado = (a + b) - (c + d)\n",
    "\n",
    "print(\"(\",a,\"+\",b,\") - (\",c,\"+\",d,\") =\",resultado)  # Salida: 0"
   ]
  },
  {
   "cell_type": "markdown",
   "metadata": {},
   "source": [
    "Sin embargo, la multiplicación, división y otras operaciones aritméticas pueden requerir convertir los números a base 10 para realizar los cálculos y luego, si es necesario, convertir el resultado a la base deseada.  \n",
    "\n",
    "Python proporciona funciones para hacer estas conversiones:\n",
    "\n",
    "Ejemplo en Python:"
   ]
  },
  {
   "cell_type": "code",
   "execution_count": null,
   "metadata": {},
   "outputs": [],
   "source": [
    "# Convertir de base 10 a base 2, 8, o 16\n",
    "decimal = 42\n",
    "binario = bin(decimal)  # bin() devuelve una cadena que representa el número en binario\n",
    "octal = oct(decimal)    # oct() devuelve una cadena que representa el número en octal\n",
    "hexadecimal = hex(decimal)  # hex() devuelve una cadena que representa el número en hexadecimal\n",
    "\n",
    "print(binario)       # Salida: '0b101010'\n",
    "print(octal)         # Salida: '0o52'\n",
    "print(hexadecimal)   # Salida: '0x2a'\n",
    "\n",
    "# Convertir de base 2, 8, o 16 a base 10\n",
    "num_binario = 0b1010\n",
    "num_octal = 0o52\n",
    "num_hexadecimal = 0x2A\n",
    "\n",
    "decimal_desde_binario = int(num_binario)\n",
    "decimal_desde_octal = int(num_octal)\n",
    "decimal_desde_hexadecimal = int(num_hexadecimal)\n",
    "\n",
    "print(decimal_desde_binario)        # Salida: 10\n",
    "print(decimal_desde_octal)          # Salida: 42\n",
    "print(decimal_desde_hexadecimal)    # Salida: 42\n"
   ]
  },
  {
   "cell_type": "markdown",
   "metadata": {},
   "source": [
    "las bases distintas de la decimal (2, 8 y 16) son útiles en situaciones específicas, como manipulación de bits, codificación, criptografía y otras áreas avanzadas de programación.\n",
    "\n",
    "### ¿Que pasa con el print y los fstrings para mostrar y convertir desde distintas bases?  \n",
    "\n",
    "El uso de print y f-strings (formatted strings) es una forma conveniente para mostrar y convertir números entre diferentes bases en Python.\n",
    "\n",
    "Mostrar números en distintas bases con print: \n",
    "\n",
    "Cuando utilizamos print para mostrar un número entero en Python, por defecto, se mostrará en base decimal. Sin embargo, podemos cambiar la base del número utilizando formatos específicos para cada base.  \n",
    "\n",
    "Para binario: Utilizamos el formato \"{0:b}\".  \n",
    "\n",
    "Para octal: Utilizamos el formato \"{0:o}\".  \n",
    "\n",
    "Para hexadecimal: Utilizamos el formato \"{0:x}\" (en minúsculas) o \"{0:X}\" (en mayúsculas).  \n",
    "\n",
    "Ejemplo en Python:  "
   ]
  },
  {
   "cell_type": "code",
   "execution_count": null,
   "metadata": {},
   "outputs": [],
   "source": [
    "numero_decimal = 42\n",
    "print(\"Decimal:\", numero_decimal)                      # Salida: Decimal: 42\n",
    "print(\"Binario:\", \"{0:b}\".format(numero_decimal))      # Salida: Binario: 101010\n",
    "print(\"Octal:\", \"{0:o}\".format(numero_decimal))        # Salida: Octal: 52\n",
    "print(\"Hexadecimal:\", \"{0:x}\".format(numero_decimal))  # Salida: Hexadecimal: 2a\n"
   ]
  },
  {
   "cell_type": "markdown",
   "metadata": {},
   "source": [
    "Convertir números entre diferentes bases utilizando f-strings:  \n",
    "\n",
    "Además de print, también podemos usar f-strings para mostrar números en diferentes bases directamente en una cadena.  \n",
    "\n",
    "Ejemplo en Python:"
   ]
  },
  {
   "cell_type": "code",
   "execution_count": null,
   "metadata": {},
   "outputs": [],
   "source": [
    "numero_decimal = 42\n",
    "numero_binario = 0b1010\n",
    "numero_octal = 0o52\n",
    "numero_hexadecimal = 0x2A\n",
    "\n",
    "print(f\"Decimal: {numero_decimal}\")          # Salida: Decimal: 42\n",
    "print(f\"Binario: {numero_binario:b}\")        # Salida: Binario: 1010\n",
    "print(f\"Octal: {numero_octal:o}\")            # Salida: Octal: 52\n",
    "print(f\"Hexadecimal: {numero_hexadecimal:X}\")  # Salida: Hexadecimal: 2A\n",
    "print(f\"Hexadecimal: {numero_hexadecimal:x}\")  # Salida: Hexadecimal: 2a\n"
   ]
  },
  {
   "cell_type": "markdown",
   "metadata": {},
   "source": [
    "Convertir cadenas en diferentes bases a números enteros:  \n",
    "\n",
    "Si tenemos un número representado como una cadena en una base específica, podemos convertirlo a un número entero en base 10 utilizando la función int(). Solo necesitamos pasar la cadena y especificar la base en la que está el número.  \n",
    "\n",
    "Ejemplo en Python:"
   ]
  },
  {
   "cell_type": "code",
   "execution_count": null,
   "metadata": {},
   "outputs": [],
   "source": [
    "cadena_binaria = \"1010\"\n",
    "cadena_octal = \"52\"\n",
    "cadena_hexadecimal = \"2A\"\n",
    "\n",
    "numero_desde_binario = int(cadena_binaria, 2)\n",
    "numero_desde_octal = int(cadena_octal, 8)\n",
    "numero_desde_hexadecimal = int(cadena_hexadecimal, 16)\n",
    "\n",
    "print(numero_desde_binario)        # Salida: 10\n",
    "print(numero_desde_octal)          # Salida: 42\n",
    "print(numero_desde_hexadecimal)    # Salida: 42"
   ]
  },
  {
   "cell_type": "markdown",
   "metadata": {},
   "source": [
    "### El tipo \"float\"  \n",
    "\n",
    "El tipo float en Python representa números de punto flotante, también conocidos como números de coma flotante o números reales. Estos números incluyen una parte entera y una parte decimal, permitiendo representar números fraccionarios y decimales. Por ejemplo, 3.14, 1.0, -2.75, son ejemplos de números float.\n",
    "\n",
    "#### Notación de coma flotante (IEEE 754):  \n",
    "\n",
    "La notación de coma flotante sigue el estándar IEEE 754, que es una norma para la representación binaria de números de punto flotante en computadoras. La notación de coma flotante utiliza bits para almacenar la representación binaria de los números reales.\n",
    "\n",
    "En este estándar, los números de punto flotante se representan utilizando tres componentes fundamentales:  \n",
    "\n",
    "- Signo: Un bit que indica si el número es positivo (0) o negativo (1).\n",
    "\n",
    "- Mantisa (fracción o significando fraccional): Es la parte del número que contiene los dígitos significativos. Se almacena como una fracción binaria normalizada entre 1 y 2.\n",
    "\n",
    "- Exponente: Representa la posición del punto decimal (coma) y es un número entero que se suma o resta a la mantisa para desplazar el punto decimal.  \n",
    "\n",
    "El formato de coma flotante es similar a la notación científica, donde el número se expresa en una forma abreviada de la forma mantisa × 2^exponente. Sin embargo, en binario, se utiliza la base 2 en lugar de la base 10.\n",
    "\n",
    "Es importante tener en cuenta que la representación en binario de algunos números decimales puede no ser exacta, lo que puede llevar a errores de precisión cuando se realizan operaciones con números de punto flotante.\n",
    "\n",
    "### Creación de números float:\n",
    "\n",
    "Se puede crear números float en Python de varias maneras:\n",
    "\n",
    "Directamente asignando un valor con parte decimal:"
   ]
  },
  {
   "cell_type": "code",
   "execution_count": null,
   "metadata": {},
   "outputs": [],
   "source": [
    "numero_float = 3.14\n",
    "print(\"numero_float:\",numero_float)"
   ]
  },
  {
   "cell_type": "markdown",
   "metadata": {},
   "source": [
    "Utilizando notación científica con el exponente en \"e\" o \"E\":"
   ]
  },
  {
   "cell_type": "code",
   "execution_count": null,
   "metadata": {},
   "outputs": [],
   "source": [
    "numero_cientifico = 1.5e3  # Equivalente a 1.5 * 10^3 = 1500.0\n",
    "print(\"numero_cientifico:\",numero_cientifico)"
   ]
  },
  {
   "cell_type": "markdown",
   "metadata": {},
   "source": [
    "Utilizando la función float() para convertir otros tipos de datos a float:"
   ]
  },
  {
   "cell_type": "code",
   "execution_count": null,
   "metadata": {},
   "outputs": [],
   "source": [
    "otro_numero = float(\"2.5\")\n",
    "print(\"otro_numero:\",otro_numero)"
   ]
  },
  {
   "cell_type": "markdown",
   "metadata": {},
   "source": [
    "### Operaciones con números float:\n",
    "\n",
    "Los números float se comportan de manera similar a los números reales. Puedes realizar operaciones aritméticas con ellos, como suma, resta, multiplicación y división:"
   ]
  },
  {
   "cell_type": "code",
   "execution_count": null,
   "metadata": {},
   "outputs": [],
   "source": [
    "a = 3.5\n",
    "b = 1.25\n",
    "\n",
    "print(\"a:\",a)\n",
    "print(\"b:\",b)\n",
    "\n",
    "suma = a + b\n",
    "resta = a - b\n",
    "multiplicacion = a * b\n",
    "division = a / b\n",
    "\n",
    "print(\"Suma:\", suma)            # Salida: Suma: 4.75\n",
    "print(\"Resta:\", resta)          # Salida: Resta: 2.25\n",
    "print(\"Multiplicación:\", multiplicacion)  # Salida: Multiplicación: 4.375\n",
    "print(\"División:\", division)    # Salida: División: 2.8\n"
   ]
  },
  {
   "cell_type": "markdown",
   "metadata": {},
   "source": [
    "### Precisión y errores de redondeo:\n",
    "\n",
    "Debido a la representación binaria de los números de punto flotante, algunos números decimales no pueden representarse de manera exacta, lo que puede resultar en errores de redondeo.  \n",
    "\n",
    "Por ejemplo:"
   ]
  },
  {
   "cell_type": "code",
   "execution_count": 2,
   "metadata": {},
   "outputs": [
    {
     "name": "stdout",
     "output_type": "stream",
     "text": [
      "a: 0.1\n",
      "b: 0.2\n",
      "suma: 0.30000000000000004\n"
     ]
    }
   ],
   "source": [
    "a = 0.1\n",
    "b = 0.2\n",
    "print(\"a:\",a)\n",
    "print(\"b:\",b)\n",
    "\n",
    "suma = a + b\n",
    "\n",
    "print(\"suma:\",suma)  # Salida: 0.30000000000000004\n"
   ]
  },
  {
   "cell_type": "markdown",
   "metadata": {},
   "source": [
    "En el ejemplo anterior, la suma de 0.1 y 0.2 da como resultado un número ligeramente diferente de 0.3 debido a la representación binaria.\n",
    "\n",
    "Para comparar números float y evitar problemas de precisión, es común utilizar una tolerancia o margen de error al comparar valores.\n",
    "\n",
    "Ejemplo de comparacion con tolerancia en Python:"
   ]
  },
  {
   "cell_type": "code",
   "execution_count": 3,
   "metadata": {},
   "outputs": [
    {
     "name": "stdout",
     "output_type": "stream",
     "text": [
      "a: 0.1\n",
      "b: 0.2\n",
      "suma: 0.30000000000000004\n",
      "La suma es aproximadamente 0.3.\n"
     ]
    }
   ],
   "source": [
    "print(\"a:\",a)\n",
    "print(\"b:\",b)\n",
    "\n",
    "suma = a + b\n",
    "\n",
    "print(\"suma:\",suma)\n",
    "\n",
    "# Comparar con una tolerancia de 1e-10\n",
    "if abs(suma - 0.3) < 1e-10:\n",
    "    print(\"La suma es aproximadamente 0.3.\")\n",
    "else:\n",
    "    print(\"La suma es diferente de 0.3.\")\n"
   ]
  },
  {
   "cell_type": "markdown",
   "metadata": {},
   "source": [
    "En estas líneas, se realiza una comparación para determinar si suma es aproximadamente igual a 0.3. Dado que 0.1 + 0.2 no da exactamente 0.3 debido a la representación binaria de los números de punto flotante, la comparación no será verdadera en su forma exacta.\n",
    "\n",
    "Para evitar problemas de precisión, se utiliza una tolerancia ($1 \\times 10^{-10}$ este caso) que es una pequeña cantidad $1 \\times 10^{-10} = 0.0000000001$ La función abs() se utiliza para obtener el valor absoluto de la diferencia entre suma y 0.3. Si esta diferencia es menor que la tolerancia (es decir, si es prácticamente cero), se considera que suma es aproximadamente igual a 0.3, y se imprime \"La suma es aproximadamente 0.3.\". De lo contrario, se imprime \"La suma es diferente de 0.3.\"."
   ]
  },
  {
   "cell_type": "markdown",
   "metadata": {},
   "source": [
    "### El módulo Decimal en Python:\n",
    "\n",
    "El módulo decimal en Python proporciona una clase llamada Decimal que permite trabajar con números decimales de manera precisa y sin errores de redondeo inherentes a los números de punto flotante (float). Este módulo se utiliza para cálculos que requieren alta precisión decimal, como aplicaciones financieras, cálculos con decimales exactos, tasas de interés, divisas, entre otros.\n",
    "\n",
    "Creación de objetos Decimal:\n",
    "\n",
    "Para utilizar el tipo Decimal, primero debes importar el módulo decimal. Luego, puedes crear objetos Decimal utilizando el constructor Decimal(). A diferencia de los float, los Decimal se crean a partir de cadenas de texto que representan los números decimales con la precisión necesaria."
   ]
  },
  {
   "cell_type": "code",
   "execution_count": null,
   "metadata": {},
   "outputs": [],
   "source": [
    "from decimal import Decimal\n",
    "\n",
    "# Usando Decimal para precisión exacta\n",
    "a_decimal = Decimal('0.1')\n",
    "b_decimal = Decimal('0.2')\n",
    "suma_decimal = a_decimal + b_decimal\n",
    "print(\"Suma con Decimal:\", suma_decimal)  # Salida: Suma con Decimal: 0.3\n",
    "\n",
    "# Usando float con precisión limitada\n",
    "a_float = 0.1\n",
    "b_float = 0.2\n",
    "suma_float = a_float + b_float\n",
    "print(\"Suma con float:\", suma_float)  # Salida: Suma con float: 0.30000000000000004  \n"
   ]
  }
 ],
 "metadata": {
  "kernelspec": {
   "display_name": "Python 3",
   "language": "python",
   "name": "python3"
  },
  "language_info": {
   "codemirror_mode": {
    "name": "ipython",
    "version": 3
   },
   "file_extension": ".py",
   "mimetype": "text/x-python",
   "name": "python",
   "nbconvert_exporter": "python",
   "pygments_lexer": "ipython3",
   "version": "3.10.4"
  },
  "orig_nbformat": 4
 },
 "nbformat": 4,
 "nbformat_minor": 2
}
